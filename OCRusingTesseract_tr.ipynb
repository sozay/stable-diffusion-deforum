{
  "nbformat": 4,
  "nbformat_minor": 0,
  "metadata": {
    "colab": {
      "provenance": [],
      "collapsed_sections": [],
      "include_colab_link": true
    },
    "kernelspec": {
      "name": "python2",
      "display_name": "Python 2"
    }
  },
  "cells": [
    {
      "cell_type": "markdown",
      "metadata": {
        "id": "view-in-github",
        "colab_type": "text"
      },
      "source": [
        "<a href=\"https://colab.research.google.com/github/sozay/stable-diffusion-deforum/blob/main/OCRusingTesseract_tr.ipynb\" target=\"_parent\"><img src=\"https://colab.research.google.com/assets/colab-badge.svg\" alt=\"Open In Colab\"/></a>"
      ]
    },
    {
      "metadata": {
        "id": "uWwpI-24_Nob",
        "colab": {
          "base_uri": "https://localhost:8080/"
        },
        "outputId": "fd8383c8-94b7-41ef-9501-245282ef74e9"
      },
      "cell_type": "code",
      "source": [
        "!sudo apt install tesseract-ocr\n",
        "!sudo apt install tesseract-ocr-tur"
      ],
      "execution_count": 1,
      "outputs": [
        {
          "output_type": "stream",
          "name": "stdout",
          "text": [
            "Reading package lists... Done\n",
            "Building dependency tree       \n",
            "Reading state information... Done\n",
            "tesseract-ocr is already the newest version (4.00~git2288-10f4998a-2).\n",
            "The following package was automatically installed and is no longer required:\n",
            "  libnvidia-common-460\n",
            "Use 'sudo apt autoremove' to remove it.\n",
            "0 upgraded, 0 newly installed, 0 to remove and 12 not upgraded.\n",
            "Reading package lists... Done\n",
            "Building dependency tree       \n",
            "Reading state information... Done\n",
            "tesseract-ocr-tur is already the newest version (4.00~git24-0e00fe6-1.2).\n",
            "The following package was automatically installed and is no longer required:\n",
            "  libnvidia-common-460\n",
            "Use 'sudo apt autoremove' to remove it.\n",
            "0 upgraded, 0 newly installed, 0 to remove and 12 not upgraded.\n"
          ]
        }
      ]
    },
    {
      "metadata": {
        "id": "ujL16dZ2_O-3",
        "colab": {
          "base_uri": "https://localhost:8080/"
        },
        "outputId": "e6ecf5ff-1ca0-49e9-ea29-5b4a6fa9293b"
      },
      "cell_type": "code",
      "source": [
        "!pip install pytesseract\n",
        "!pip install pypub\n",
        "!pip install pypandoc"
      ],
      "execution_count": 2,
      "outputs": [
        {
          "output_type": "stream",
          "name": "stdout",
          "text": [
            "Looking in indexes: https://pypi.org/simple, https://us-python.pkg.dev/colab-wheels/public/simple/\n",
            "Requirement already satisfied: pytesseract in /usr/local/lib/python3.7/dist-packages (0.3.10)\n",
            "Requirement already satisfied: packaging>=21.3 in /usr/local/lib/python3.7/dist-packages (from pytesseract) (21.3)\n",
            "Requirement already satisfied: Pillow>=8.0.0 in /usr/local/lib/python3.7/dist-packages (from pytesseract) (9.2.0)\n",
            "Requirement already satisfied: pyparsing!=3.0.5,>=2.0.2 in /usr/local/lib/python3.7/dist-packages (from packaging>=21.3->pytesseract) (3.0.9)\n",
            "Looking in indexes: https://pypi.org/simple, https://us-python.pkg.dev/colab-wheels/public/simple/\n",
            "Requirement already satisfied: pypub in /usr/local/lib/python3.7/dist-packages (1.5)\n",
            "Requirement already satisfied: beautifulsoup4 in /usr/local/lib/python3.7/dist-packages (from pypub) (4.6.3)\n",
            "Requirement already satisfied: jinja2 in /usr/local/lib/python3.7/dist-packages (from pypub) (2.11.3)\n",
            "Requirement already satisfied: requests in /usr/local/lib/python3.7/dist-packages (from pypub) (2.23.0)\n",
            "Requirement already satisfied: MarkupSafe>=0.23 in /usr/local/lib/python3.7/dist-packages (from jinja2->pypub) (2.0.1)\n",
            "Requirement already satisfied: chardet<4,>=3.0.2 in /usr/local/lib/python3.7/dist-packages (from requests->pypub) (3.0.4)\n",
            "Requirement already satisfied: urllib3!=1.25.0,!=1.25.1,<1.26,>=1.21.1 in /usr/local/lib/python3.7/dist-packages (from requests->pypub) (1.24.3)\n",
            "Requirement already satisfied: idna<3,>=2.5 in /usr/local/lib/python3.7/dist-packages (from requests->pypub) (2.10)\n",
            "Requirement already satisfied: certifi>=2017.4.17 in /usr/local/lib/python3.7/dist-packages (from requests->pypub) (2022.9.24)\n",
            "Looking in indexes: https://pypi.org/simple, https://us-python.pkg.dev/colab-wheels/public/simple/\n",
            "Requirement already satisfied: pypandoc in /usr/local/lib/python3.7/dist-packages (1.9)\n"
          ]
        }
      ]
    },
    {
      "metadata": {
        "id": "QKJh7JjTAqzO"
      },
      "cell_type": "code",
      "source": [
        "import pytesseract\n",
        "import shutil\n",
        "import os\n",
        "import random\n",
        "import cv2\n",
        "from google.colab.patches import cv2_imshow\n",
        "try:\n",
        "    from PIL import Image\n",
        "except ImportError:\n",
        "    import Image"
      ],
      "execution_count": 3,
      "outputs": []
    },
    {
      "cell_type": "code",
      "source": [
        "\n",
        "from google.colab import drive # type: ignore\n",
        "source_path=''\n",
        "try:\n",
        "    \n",
        "    drive_path = \"/content/drive\"\n",
        "    drive.mount(drive_path,force_remount=True)\n",
        "    source_path_gdrive = \"AI/Imgtotext\" #@param {type:\"string\"}\n",
        "    source_path = \"/content/drive/MyDrive/\"+source_path_gdrive\n",
        "except:\n",
        "    print(\"...error mounting drive or with drive path variables\")\n",
        "\n",
        "import os\n",
        "os.makedirs(source_path, exist_ok=True)\n",
        "\n",
        "print(f\"source_path: {source_path}\")"
      ],
      "metadata": {
        "colab": {
          "base_uri": "https://localhost:8080/"
        },
        "id": "aWFw-nij6QiC",
        "outputId": "e20eaccb-93dc-46b4-ee34-29524cb11532"
      },
      "execution_count": 4,
      "outputs": [
        {
          "output_type": "stream",
          "name": "stdout",
          "text": [
            "Mounted at /content/drive\n",
            "source_path: /content/drive/MyDrive/AI/Imgtotext\n"
          ]
        }
      ]
    },
    {
      "metadata": {
        "id": "8zmc-K_nAyg1"
      },
      "cell_type": "code",
      "source": [
        "from google.colab import files\n",
        "import glob\n",
        "\n",
        "list_of_files = sorted( filter( os.path.isfile,glob.glob(source_path + '/*.jpg') ) )\n",
        "\n",
        "#uploaded = files.upload()"
      ],
      "execution_count": 5,
      "outputs": []
    },
    {
      "metadata": {
        "id": "HaM3cMUDA_Ma",
        "colab": {
          "base_uri": "https://localhost:8080/"
        },
        "outputId": "38508c22-455a-460c-c771-16032fe21183"
      },
      "cell_type": "code",
      "source": [
        "book=''\n",
        "for target in list_of_files:\n",
        "  image = cv2.imread(target)\n",
        "  #cv2_imshow(image)\n",
        "  gray_image = cv2.cvtColor(image, cv2.COLOR_BGR2GRAY)\n",
        "  threshold_img = cv2.threshold(gray_image, 0, 255, cv2.THRESH_BINARY | cv2.THRESH_OTSU)[1]\n",
        "  #cv2_imshow(threshold_img)\n",
        "\n",
        "  extractedInformation = pytesseract.image_to_string(threshold_img , lang='tur')\n",
        "  book += extractedInformation\n",
        "  print(extractedInformation)"
      ],
      "execution_count": 6,
      "outputs": [
        {
          "output_type": "stream",
          "name": "stdout",
          "text": [
            "HARLES DICKENS\n",
            "\n",
            "© İŞARET\n",
            "MEMURU\n",
            "\n",
            " \n",
            "\f\n",
            " \n",
            "\n",
            " \n",
            "\n",
            "Can Klasik\n",
            "\n",
            "işaret Memuru, Charles Dickens\n",
            "İngilizce aslından çeviren: Selçuk Işık\n",
            "\n",
            "The Trial For Murder:\n",
            "İlk Basım: Ali the Year Round, 1865\n",
            "\n",
            "inal Man\n",
            "basım All the Year Round, 1866\n",
            "To Be Read At The Dusk\n",
            "İlk baskı: Heath's Keepsake,1852\n",
            "Bu çeviride kaynak alınan basım: Chapman & Hall, 1894, 1905\n",
            "© 2020, Can Sanat Yayınları A.Ş. /\n",
            "Tüm hakları saklıdır. Tanıtım için yapılacak kısa alıntılar dışında\n",
            "yazılı izni olmaksızın hiçbir yolla çoğaltılamaz. |\n",
            "\n",
            "   \n",
            "  \n",
            "   \n",
            "     \n",
            "\n",
            "CE\n",
            "\n",
            "1. basım Temmuz 2020, İstanbul\n",
            "Bu kitabın 1. baskısı 4000 adet yapılmıştır.\n",
            "\n",
            "Dizi editörü: Ayça Sezen\n",
            "Editör: Şirin Etik\n",
            "\n",
            "Düzelti: Mert Tokur\n",
            "Mizanpaj: Atahan Sıralar\n",
            "\n",
            "Sanat yönetmeni: Utku Lomlu / Lom Creative (www.lom.comtıj\n",
            "Kapak illüstrasyonu: Sevda Kaçtı\n",
            "\n",
            "Baskı ve cilt: Arı Matbaası\n",
            "Davutpaşa Cad. Emintaş Kâzım Dinçol San. Sit. No: 81/39,\n",
            "Topkapı, İstanbul |\n",
            "Sertifika No: 44009\n",
            "\n",
            "ISBN 978-975-07-4380-|\n",
            "\n",
            "CAN SANAT YAYINLARI\n",
            "YAPIM VE DAĞITIM TİCARET VE SANAYİ AŞ.\n",
            "Hayriye Caddesi No: 2, 34430 Galatasaray, İstanbul\n",
            "Telefon: (0212) 252 56 75 / 252 59 68 / 252 59 89 Faks: (\n",
            "canyayinlari.com\n",
            "\n",
            "yay inevi(ğcanyayinlari.com\n",
            "Sertifika No: 43514 |\n",
            "\n",
            "  \n",
            "\f\n",
            "CHARLES DICKENS\n",
            "\n",
            "İŞARET\n",
            "MEMURU\n",
            "\n",
            "ÖYKÜ\n",
            "\n",
            "İngilizce aslından çeviren\n",
            "\n",
            "Selçuk Işık\n",
            "\n",
            " \n",
            "\n",
            "Yvcoan\n",
            "\n",
            " \n",
            "\f\n",
            "CHARLES DICKENS, 1812'de İngiltere'nin Portsmouth kentinde doğ-\n",
            "du. Babası hapse düşünce okuldan ayrılıp bir fabrikada çalışmak zorun-\n",
            "da kaldı. Bu dönemde işçi sınıfının yaşamını ve sıkıntılarını yakından\n",
            "tanıma fırsatı buldu. Babası dönünce eğitimini tamamladı. Önce bir\n",
            "avukatla, sonra liberal bir gazetede çalıştı. Mister Pickwick'in Serüvenle-\n",
            "ri (1837) adlı ilk romanı çok tutuldu. Ardından gelen Oliver Twist önce\n",
            "yayın yönetmenliğini üstlendiği bir dergide tefrika edildi. Bunu Nicholas\n",
            "Nickleby, Antikacı Dükkânı ve Martin Chuzzlewit izledi. Bir Noel Şarkısı\n",
            "(1843) olağanüstü bir başarı elde etti. Dombey and Son, Dickens'ın ro-\n",
            "mancılığında bir dönüm noktası oldu. David Copperfield'da, toplumsal\n",
            "sorunlardan çok kendi deneyimlerine ağırlık veren Dickens, İki Şehrin\n",
            "Hikâyesi ve Büyük Umutlar'la zirveye çıktı. Dickens'ın yapıtları, gerçek-\n",
            "çi biçemin, düzyazı ustalığının, mizahi bir dehanın ve benzersiz edebi\n",
            "karakterlerin en önemli örnekleri olarak değerlendirildi. Dickens,\n",
            "1870'te Chatham yakınlarında Gad's Hill'deki kır evinde öldü.\n",
            "\n",
            "SELÇUK IŞIK, Marmara Üniversitesi İngilizce İşletme Bölümü'nden\n",
            "mezun oldu. İngiliz komünist tarihçi Ernie Trory'nin İkinci Dünya Savaşı\n",
            "sonrasında Almanya'nın doğu bölümünde sosyalizmin kurulmasını ele\n",
            "aldığı, Yazılama Yayınevi'nden basılan Almanyada Sosyalizm adlı kitabı\n",
            "çevirdi. 2014'ten bu yana, sol Haber Portalı'na düzenli olarak çevirmen-\n",
            "lik yapmaktadır.\n",
            "\f\n",
            " \n",
            "\n",
            "“Size tekrar misafir olmayı canıgönülden isterim\n",
            "Ne zaman geleyim?”\n",
            "\n",
            "“Sabah paydos ediyorum, yarın akşam onda burada\n",
            "olabilirim efendim.”\n",
            "\n",
            "“Saat on birde gelirim o halde.”\n",
            "\n",
            "Bana teşekkür edip kapıya kadar eşlik etti. O tuhaf\n",
            "alçak sesiyle, “Yolunuzu bulana kadar size ışık tutacağım\n",
            "efendim,” dedi. “Yolu bulduğunuzda seslenmeyin! Tepe-\n",
            "ye vardığınızda da seslenmeyin!”\n",
            "\n",
            "Hali tavrı başımda daha soğuk rüzgârların esmesine\n",
            "neden olsa da, “Pekâlâ,” demekten başka bir şey gelmedi\n",
            "elimden.\n",
            "\n",
            "“Yarın gece aşağı indiğinizde de seslenmeyin! Veda-\n",
            "laşmadan önce bir şey sormama izin verin. Sizi bu gece,\n",
            "'Hey! Aşağıdaki!” diye bağırmaya iten şey neydi?”\n",
            "\n",
            "“Tanrı bilir,” dedim. “O anlama gelen bir şeyler çıktı\n",
            "ağzımdan...”\n",
            "\n",
            "“O anlama gelen bir şeyler değildi efendim. Kelimesi\n",
            "kelimesine bunlar çıktı ağzınızdan. Adım gibi eminim.”\n",
            "\n",
            "“Tamam, kabul ediyorum söylediğimi. Öyle dedim\n",
            "kuşkusuz çünkü aşağı baktığımda sizi gördüm.”\n",
            "\n",
            "“Başka bir nedeni yok mu yani?”\n",
            "\n",
            "“Başka ne gibi bir nedeni olabilir ki?”\n",
            "\n",
            "“Bu kelimelerin size doğaüstü bir yolla iletildiğine\n",
            "dair bir hisse kapılmadınız mı hiç?”\n",
            "\n",
            "“Yoo.” Ni\n",
            "\n",
            "İyi geceler diledi ve ışığını yukarı kaldırdı. Tren hat-\n",
            "tı boyunca (arkamdan tren geliyormuş gibi tatsız bir his-\n",
            "le), rayların kenarından yürüyerek yola ulaştım. Yukarı\n",
            "turmanmak aşağı inmekten daha kolaydı ve hiçbir tehli-\n",
            "keyle karşılaşmadan konakladığım otele geri döndüm.\n",
            "\n",
            "Ertesi gece tam kararlaştırdığımız saatte, çanlar saat\n",
            "on biri vururken dolambaçlı yola ilk adımımı atmıştım.\n",
            "\n",
            " \n",
            "\f\n",
            "la anlattı. Durup durup bilhassa gençliğiyle ilgili bir şey\n",
            "ler anlatırken araya “efendim” sözcüğü serpiştiriyordu,\n",
            "Onun sandığım gibi biri olmadığını anlamam için yalva-\n",
            "rırcasına bir hali vardı. Konuşması birkaç kez küçük zilin\n",
            "çalışıyla kesildi ve mesajları okuyup yanıtlaması gerekti.\n",
            "Bir kez de kapıdan çıktı ve geçen trene bayrak göstere-\n",
            "rek makinistle hoşbeş etmek durumunda kaldı. Görevini\n",
            "yerine getirirken dikkatimi çeken şey son derece titiz ve\n",
            "ihtiyatlı oluşuydu. Bir solukta sohbeti kesiyor, işini halle-\n",
            "dene kadar ağzından çıt çıkmıyordu.\n",
            "\n",
            "Sözün kısası, onun bu görev için istihdam edilebile-\n",
            "cek en sağlam kişi olduğunu belirtmek zorundayım; zira\n",
            "benimle konuştuğu esnada iki kez muhabbeti kesip beti\n",
            "benzi atmış yüzünü o sırada ÇALMAYAN küçük zile\n",
            "çevirdi, (dışarının sağlıksız, rutubetli havası içeri girme-\n",
            "sin diye kapalı tutulan) kulübenin kapısını araladı ve\n",
            "gözlerini tünelin ağzındaki kırmızı ışığa dikti. Her iki se-\n",
            "ferde de daha önce fark ettiğim halde tarif edemediğim\n",
            "o o esrarengiz bir havaya bürünmüş, ateşin başına geri dön-\n",
            "ik. düğünde birbirimize bir parça yabancılaşmıştık.\n",
            "\n",
            "; Gitmek için ayağa kalktığımda, “Beni, halinden hoş-\n",
            "nut bir adamla tanıştığıma inandırmanıza az kaldı,” dedim.\n",
            "\n",
            "(Bunu onu konuşturmak için söylediğimi korkarım\n",
            "ki itiraf etmek zorundayım.)\n",
            "\n",
            "“Sanırım bir zamanlar öyleydim,” diye karşılık verdi,\n",
            "en baştaki o alçak sesiyle, “ama şimdi sıkıntılıyım efen-\n",
            "“dim, sıkıntılıyım.”\n",
            "\n",
            "Yapabilseydi ağzından çıkan sözcükleri gerisingeri\n",
            "toplayacaktı. Gelgelelim laf ağızdan çıkmıştı bir kere ve\n",
            "ben elimi çabuk tutup onları havada yakalamıştım.\n",
            "“Canınızı sıkan şey nedir söylesenize?” >\n",
            "“Açıklaması çok güç efendim. Bundan bahsetmek\n",
            "çok ama çok güç. Şayet bir kez daha misafir olursanız\n",
            "anlatmaya çalışırım ”\n",
            "\n",
            " \n",
            "\n",
            "  \n",
            " \n",
            " \n",
            "  \n",
            "  \n",
            "  \n",
            " \n",
            "  \n",
            " \n",
            " \n",
            " \n",
            "  \n",
            " \n",
            "\n",
            " \n",
            "\n",
            " \n",
            "  \n",
            " \n",
            " \n",
            " \n",
            " \n",
            " \n",
            " \n",
            " \n",
            "\f\n"
          ]
        }
      ]
    },
    {
      "cell_type": "code",
      "source": [],
      "metadata": {
        "id": "AYTUUzN7jVw4"
      },
      "execution_count": 6,
      "outputs": []
    },
    {
      "cell_type": "code",
      "source": [],
      "metadata": {
        "id": "A7LDtjH0jWGs"
      },
      "execution_count": 6,
      "outputs": []
    },
    {
      "metadata": {
        "id": "Key-3vILBNUd",
        "colab": {
          "base_uri": "https://localhost:8080/",
          "height": 17
        },
        "outputId": "9d8eeb89-4daf-4e36-c774-df790cec39d5"
      },
      "cell_type": "code",
      "source": [
        "import pypandoc\n",
        "\n",
        "f = open(\"output.html\", \"w\")\n",
        "html = \"\"\"<!DOCTYPE html>\n",
        "<html>\n",
        "<body>\n",
        "\"\"\" + book +\"\"\"</body>\n",
        "</html>\"\"\"\n",
        "\n",
        "f.write(html)\n",
        "f.close()\n",
        "#files.download('output.txt')\n",
        "html=pypandoc.convert_file(\"output.html\",'epub3',outputfile=\"output.epub\")\n",
        "#output = pypandoc.convert_text(book, 'epub', format='epub')\n",
        "\n",
        "#f = open(\"output.epub\", \"w\")\n",
        "#f.write(output)\n",
        "#f.close()\n",
        "files.download('output.epub')\n",
        "\n"
      ],
      "execution_count": 10,
      "outputs": [
        {
          "output_type": "display_data",
          "data": {
            "text/plain": [
              "<IPython.core.display.Javascript object>"
            ],
            "application/javascript": [
              "\n",
              "    async function download(id, filename, size) {\n",
              "      if (!google.colab.kernel.accessAllowed) {\n",
              "        return;\n",
              "      }\n",
              "      const div = document.createElement('div');\n",
              "      const label = document.createElement('label');\n",
              "      label.textContent = `Downloading \"${filename}\": `;\n",
              "      div.appendChild(label);\n",
              "      const progress = document.createElement('progress');\n",
              "      progress.max = size;\n",
              "      div.appendChild(progress);\n",
              "      document.body.appendChild(div);\n",
              "\n",
              "      const buffers = [];\n",
              "      let downloaded = 0;\n",
              "\n",
              "      const channel = await google.colab.kernel.comms.open(id);\n",
              "      // Send a message to notify the kernel that we're ready.\n",
              "      channel.send({})\n",
              "\n",
              "      for await (const message of channel.messages) {\n",
              "        // Send a message to notify the kernel that we're ready.\n",
              "        channel.send({})\n",
              "        if (message.buffers) {\n",
              "          for (const buffer of message.buffers) {\n",
              "            buffers.push(buffer);\n",
              "            downloaded += buffer.byteLength;\n",
              "            progress.value = downloaded;\n",
              "          }\n",
              "        }\n",
              "      }\n",
              "      const blob = new Blob(buffers, {type: 'application/binary'});\n",
              "      const a = document.createElement('a');\n",
              "      a.href = window.URL.createObjectURL(blob);\n",
              "      a.download = filename;\n",
              "      div.appendChild(a);\n",
              "      a.click();\n",
              "      div.remove();\n",
              "    }\n",
              "  "
            ]
          },
          "metadata": {}
        },
        {
          "output_type": "display_data",
          "data": {
            "text/plain": [
              "<IPython.core.display.Javascript object>"
            ],
            "application/javascript": [
              "download(\"download_f242d472-bf19-416b-938e-69baf733b897\", \"output.epub\", 6668)"
            ]
          },
          "metadata": {}
        }
      ]
    },
    {
      "metadata": {
        "id": "aw9nJoeqBWZP"
      },
      "cell_type": "code",
      "source": [],
      "execution_count": null,
      "outputs": []
    }
  ]
}